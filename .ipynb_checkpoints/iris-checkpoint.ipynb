{
 "cells": [
  {
   "cell_type": "markdown",
   "id": "477dd660-24a1-4cb2-b150-02382c48759c",
   "metadata": {},
   "source": [
    "IRIS CLASSIFICATION"
   ]
  },
  {
   "cell_type": "code",
   "execution_count": 11,
   "id": "48c16e5d-7b2f-410c-adc8-c74a4fa7ad89",
   "metadata": {},
   "outputs": [
    {
     "name": "stderr",
     "output_type": "stream",
     "text": [
      "C:\\Users\\user\\AppData\\Local\\Programs\\Python\\Python311\\Lib\\site-packages\\sklearn\\linear_model\\_logistic.py:460: ConvergenceWarning: lbfgs failed to converge (status=1):\n",
      "STOP: TOTAL NO. of ITERATIONS REACHED LIMIT.\n",
      "\n",
      "Increase the number of iterations (max_iter) or scale the data as shown in:\n",
      "    https://scikit-learn.org/stable/modules/preprocessing.html\n",
      "Please also refer to the documentation for alternative solver options:\n",
      "    https://scikit-learn.org/stable/modules/linear_model.html#logistic-regression\n",
      "  n_iter_i = _check_optimize_result(\n"
     ]
    }
   ],
   "source": [
    "from sklearn import datasets\n",
    "from sklearn.model_selection import train_test_split\n",
    "from sklearn.linear_model import LinearRegression,LogisticRegression\n",
    "from sklearn.svm import SVC\n",
    "import pickle\n",
    "iris=datasets.load_iris()\n",
    "x=iris.data\n",
    "y=iris.target\n",
    "x_train,x_test,y_train,y_test=train_test_split(x,y)\n",
    "lin_reg=LinearRegression()\n",
    "log_reg=LogisticRegression()\n",
    "svc_model=SVC()\n",
    "lin_reg=lin_reg.fit(x_train,y_train)\n",
    "log_reg=log_reg.fit(x_train,y_train)\n",
    "pickle.dump(lin_reg,open('lin_model.pkl','wb'))\n",
    "pickle.dump(log_reg,open('log_model.pkl','wb'))\n",
    "pickle.dump(svc_model,open('svc_model.pkl','wb'))"
   ]
  },
  {
   "cell_type": "code",
   "execution_count": 14,
   "id": "037e5a16-1655-4f62-ac6a-636eafd7886c",
   "metadata": {},
   "outputs": [
    {
     "name": "stderr",
     "output_type": "stream",
     "text": [
      "2023-07-29 23:27:57.175 \n",
      "  \u001b[33m\u001b[1mWarning:\u001b[0m to view this Streamlit app on a browser, run it with the following\n",
      "  command:\n",
      "\n",
      "    streamlit run C:\\Users\\user\\AppData\\Local\\Programs\\Python\\Python311\\Lib\\site-packages\\ipykernel_launcher.py [ARGUMENTS]\n"
     ]
    },
    {
     "ename": "NameError",
     "evalue": "name 'activites' is not defined",
     "output_type": "error",
     "traceback": [
      "\u001b[1;31m---------------------------------------------------------------------------\u001b[0m",
      "\u001b[1;31mNameError\u001b[0m                                 Traceback (most recent call last)",
      "Cell \u001b[1;32mIn[14], line 37\u001b[0m\n\u001b[0;32m     34\u001b[0m              st\u001b[38;5;241m.\u001b[39msuccess(classify((svc_model\u001b[38;5;241m.\u001b[39mpredict(inputs))))\n\u001b[0;32m     36\u001b[0m \u001b[38;5;28;01mif\u001b[39;00m \u001b[38;5;18m__name__\u001b[39m\u001b[38;5;241m==\u001b[39m\u001b[38;5;124m'\u001b[39m\u001b[38;5;124m__main__\u001b[39m\u001b[38;5;124m'\u001b[39m:\n\u001b[1;32m---> 37\u001b[0m     \u001b[43mmain\u001b[49m\u001b[43m(\u001b[49m\u001b[43m)\u001b[49m\n",
      "Cell \u001b[1;32mIn[14], line 20\u001b[0m, in \u001b[0;36mmain\u001b[1;34m()\u001b[0m\n\u001b[0;32m     18\u001b[0m html_temp\u001b[38;5;241m=\u001b[39m \u001b[38;5;124m\"\"\"\u001b[39m\u001b[38;5;124m<div style=\u001b[39m\u001b[38;5;124m\"\u001b[39m\u001b[38;5;124mbackgrounf-color:teal; padding:10px\u001b[39m\u001b[38;5;124m\"\u001b[39m\u001b[38;5;124m><h2 style=\u001b[39m\u001b[38;5;124m\"\u001b[39m\u001b[38;5;124mcolor:white;text-align:center;\u001b[39m\u001b[38;5;124m\"\u001b[39m\u001b[38;5;124m>Iris Classification</h2></div>\u001b[39m\u001b[38;5;124m\"\"\"\u001b[39m\n\u001b[0;32m     19\u001b[0m st\u001b[38;5;241m.\u001b[39mmarkdown(html_temp,unsafe_allow_html\u001b[38;5;241m=\u001b[39m\u001b[38;5;28;01mTrue\u001b[39;00m)\n\u001b[1;32m---> 20\u001b[0m activities\u001b[38;5;241m=\u001b[39mst\u001b[38;5;241m.\u001b[39msidebar\u001b[38;5;241m.\u001b[39mselectbox(\u001b[38;5;124m'\u001b[39m\u001b[38;5;124mwhich model would you like to use?\u001b[39m\u001b[38;5;124m'\u001b[39m,\u001b[43mactivites\u001b[49m)\n\u001b[0;32m     21\u001b[0m st\u001b[38;5;241m.\u001b[39msubheader(option)\n\u001b[0;32m     22\u001b[0m st\u001b[38;5;241m.\u001b[39mspinner(\u001b[38;5;124m\"\u001b[39m\u001b[38;5;124mhello\u001b[39m\u001b[38;5;124m\"\u001b[39m)\n",
      "\u001b[1;31mNameError\u001b[0m: name 'activites' is not defined"
     ]
    }
   ],
   "source": [
    "import streamlit as st\n",
    "import pickle\n",
    "import numpy as np\n",
    "\n",
    "lin_model=pickle.load(open('lin_model.pkl','rb'))\n",
    "log_model=pickle.load(open('log_model.pkl','rb'))\n",
    "svc_model=pickle.load(open('svc_model.pkl','rb'))\n",
    "\n",
    "def classify(num):\n",
    "    if num<0.5:\n",
    "        return 'Setosa'\n",
    "    elif num<1.5:\n",
    "        return 'Versicolor'\n",
    "    else:\n",
    "        return 'Virginica'\n",
    "def main():\n",
    "    st.title(\"Iris Classification\")\n",
    "    html_temp= \"\"\"<div style=\"backgrounf-color:teal; padding:10px\"><h2 style=\"color:white;text-align:center;\">Iris Classification</h2></div>\"\"\"\n",
    "    st.markdown(html_temp,unsafe_allow_html=True)\n",
    "    activities=st.sidebar.selectbox('which model would you like to use?',activites)\n",
    "    st.subheader(option)\n",
    "    st.spinner(\"hello\")\n",
    "    sl=st.slider('Select Sepal Length',0.0,10.0)\n",
    "    sw=st.slider('Select Sepal Width',0.0,10.0)\n",
    "    pl=st.slider('Select Petal Length',0.0,10.0)\n",
    "    pw=st.slider('Select Petal Length',0.0,10.0)\n",
    "    inputs=[[sl,sw,pl,pw]]\n",
    "    if st.button('Classify'):\n",
    "        if option == 'Linear Regression':\n",
    "            st.success(classify((lin_model.predict(inputs))))\n",
    "        elif option == 'Logistic Regression':\n",
    "             st.success(classify((log_model.predict(inputs))))\n",
    "        else:\n",
    "             st.success(classify((svc_model.predict(inputs))))\n",
    "\n",
    "if __name__=='__main__':\n",
    "    main()"
   ]
  },
  {
   "cell_type": "code",
   "execution_count": null,
   "id": "a0046293-efd9-4e85-b801-76266bdb026d",
   "metadata": {},
   "outputs": [],
   "source": []
  },
  {
   "cell_type": "code",
   "execution_count": null,
   "id": "3636568b-ea71-41b4-88f4-778c59e22e21",
   "metadata": {},
   "outputs": [],
   "source": []
  }
 ],
 "metadata": {
  "kernelspec": {
   "display_name": "Python 3 (ipykernel)",
   "language": "python",
   "name": "python3"
  },
  "language_info": {
   "codemirror_mode": {
    "name": "ipython",
    "version": 3
   },
   "file_extension": ".py",
   "mimetype": "text/x-python",
   "name": "python",
   "nbconvert_exporter": "python",
   "pygments_lexer": "ipython3",
   "version": "3.11.4"
  }
 },
 "nbformat": 4,
 "nbformat_minor": 5
}
